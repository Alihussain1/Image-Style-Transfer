{
 "cells": [
  {
   "cell_type": "code",
   "execution_count": null,
   "metadata": {},
   "outputs": [],
   "source": [
    "import torch\n",
    "import torch.nn as nn\n",
    "import torch.optim as optim\n",
    "import matplotlib.pyplot as plt\n",
    "import numpy as np\n",
    "from torchvision import models,transforms\n",
    "import Images_helper"
   ]
  },
  {
   "cell_type": "code",
   "execution_count": null,
   "metadata": {},
   "outputs": [],
   "source": [
    "device = \"cuda:0\" if torch.cuda.is_available() else \"cpu\"\n",
    "print(device)"
   ]
  },
  {
   "cell_type": "code",
   "execution_count": null,
   "metadata": {},
   "outputs": [],
   "source": [
    "model = models.vgg19(pretrained=True).features\n",
    "model.to(device)"
   ]
  },
  {
   "cell_type": "code",
   "execution_count": null,
   "metadata": {},
   "outputs": [],
   "source": [
    "for param in model.parameters():\n",
    "    param.requires_grad_(False) #stop all parameters gradient calculation to stop learning"
   ]
  },
  {
   "cell_type": "code",
   "execution_count": null,
   "metadata": {},
   "outputs": [],
   "source": [
    "content = Images_helper.load_image(\"Images/S.png\",400,[0.5,0.5,0.5],[0.5,0.5,0.5])\n",
    "plt.imshow(Images_helper.Tensor_to_Image(content,[0.5,0.5,0.5],[0.5,0.5,0.5]))"
   ]
  },
  {
   "cell_type": "code",
   "execution_count": null,
   "metadata": {},
   "outputs": [],
   "source": [
    "style = Images_helper.load_image(\"Images/magritte.jpg\",400,[0.5,0.5,0.5],[0.5,0.5,0.5])\n",
    "plt.imshow(Images_helper.Tensor_to_Image(style,[0.5,0.5,0.5],[0.5,0.5,0.5]))"
   ]
  },
  {
   "cell_type": "code",
   "execution_count": null,
   "metadata": {},
   "outputs": [],
   "source": [
    "#key : layer number from the model in third cell => value : string representing name\n",
    "style_layers = {\n",
    "          '0' : 'conv1_1',\n",
    "          '5' : 'conv2_1',\n",
    "          '10' : 'conv3_1',\n",
    "          '19' : 'conv4_1',\n",
    "          '28' : 'conv5_1' \n",
    "         } \n",
    "\n",
    "content_layers = {'21' : 'conv4_2'} \n",
    "\n",
    "def get_layer_features(image,layers):\n",
    "    features = {}\n",
    "    imgtmp = image\n",
    "    for number, layer in model._modules.items():\n",
    "        imgtmp = layer(imgtmp)\n",
    "        if number in layers:\n",
    "            features[layers[number]] = imgtmp\n",
    "    return features\n",
    "\n",
    "def get_gram_matrix(tensor):\n",
    "    #batchsize always 1\n",
    "    batchsize, depth, height, width = tensor.size()\n",
    "    tensor = tensor.view(depth,height*width)\n",
    "    Gmatrix = torch.mm(tensor,tensor.t())\n",
    "    return Gmatrix"
   ]
  },
  {
   "cell_type": "code",
   "execution_count": null,
   "metadata": {},
   "outputs": [],
   "source": [
    "def content_loss(content_image,target_image):\n",
    "    return torch.mean((content_image-target_image)**2)\n",
    "def style_loss(style_features,target_features,weights,a=1):\n",
    "    loss = 0\n",
    "    for layer in style_features:\n",
    "        _,d,h,w = style_features[layer].shape\n",
    "        loss += (weights[layer] * torch.mean((target_features[layer]-style_features[layer])**2))/(d*h*w)\n",
    "    return loss * a"
   ]
  },
  {
   "cell_type": "code",
   "execution_count": null,
   "metadata": {},
   "outputs": [],
   "source": [
    "#loss weights\n",
    "content_weight = 1 #alpha \n",
    "style_weight = 1e6 #omega\n",
    "style_layers_weights = {'conv1_1' : 1,\n",
    "                        'conv2_1' : 1,\n",
    "                        'conv3_1' : 0.25,\n",
    "                        'conv4_1' : 0.25,\n",
    "                        'conv5_1' : 0.25}\n",
    "\n",
    "iterations = 2\n",
    "\n",
    "#get content and style images features before loop cause they will never change\n",
    "content = content.to(device)\n",
    "style = style.to(device)\n",
    "content_image_features = get_layer_features(content,content_layers)\n",
    "style_image_features = get_layer_features(style,style_layers)\n",
    "#calc style grams\n",
    "style_grams = {layer : get_gram_matrix(style_image_features[layer]) for layer in style_image_features}\n",
    "\n",
    "\n",
    "# create a third \"target\" image and prep it for change\n",
    "# it is a good idea to start of with the target as a copy of our *content* image\n",
    "# then iteratively change its style\n",
    "target = content.clone().requires_grad_(True).to(device)\n",
    "\n",
    "#optimizer\n",
    "optimizer = optim.Adam([target],lr=0.01)\n",
    "for i in range(iterations):\n",
    "    target_content_features = get_layer_features(target , content_layers)\n",
    "    \n",
    "    target_style_features = get_layer_features(target,style_layers)\n",
    "    target_grams = {layer : get_gram_matrix(target_style_features[layer]) for layer in target_style_features}\n",
    "    \n",
    "    #calc loss\n",
    "    content_loss = content_loss(content_image_features,target_content_features)\n",
    "    style_loss =  style_loss(style_grams,target_grams,style_layers_weights)\n",
    "    \n",
    "    total_loss = (style_loss * style_weight) + (content_loss * content_weight)\n",
    "    \n",
    "    optimizer.zero_grad()\n",
    "    total_loss.backward()\n",
    "    optimizer.step()\n",
    "plt.imshow(Images_helper.Tensor_to_Image(target,[0.5,0.5,0.5],[0.5,0.5,0.5]))\n",
    "plt.show()    "
   ]
  },
  {
   "cell_type": "code",
   "execution_count": null,
   "metadata": {},
   "outputs": [],
   "source": []
  },
  {
   "cell_type": "code",
   "execution_count": null,
   "metadata": {},
   "outputs": [],
   "source": []
  }
 ],
 "metadata": {
  "kernelspec": {
   "display_name": "Python 3",
   "language": "python",
   "name": "python3"
  },
  "language_info": {
   "codemirror_mode": {
    "name": "ipython",
    "version": 3
   },
   "file_extension": ".py",
   "mimetype": "text/x-python",
   "name": "python",
   "nbconvert_exporter": "python",
   "pygments_lexer": "ipython3",
   "version": "3.7.0"
  }
 },
 "nbformat": 4,
 "nbformat_minor": 2
}
